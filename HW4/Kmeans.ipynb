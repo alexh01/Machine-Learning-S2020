{
 "cells": [
  {
   "cell_type": "code",
   "execution_count": 2,
   "id": "contrary-affairs",
   "metadata": {},
   "outputs": [],
   "source": [
    "import numpy as np\n",
    "import matplotlib.pyplot as plt\n",
    "import math\n",
    "#libraries are imported here"
   ]
  },
  {
   "cell_type": "code",
   "execution_count": 3,
   "id": "adaptive-mobility",
   "metadata": {},
   "outputs": [],
   "source": [
    "#this is our data as displayed in CS559B_Assignment-4-S21.pdf\n",
    "xy = [(5.1,3.8),(4.7,3.2),(4.9,3.1), \\\n",
    "      (5.0,3.0),(4.6,2.9), \\\n",
    "      (5.9,3.2),(6.0,3.0),(6.2,2.8), \\\n",
    "      (6.7,3.1),(5.5,4.2)]\n",
    "#these are our initial cluster centers\n",
    "green = (6.6,3.7)\n",
    "red = (6.2,3.2)\n",
    "blue = (6.5,3.0)"
   ]
  },
  {
   "cell_type": "markdown",
   "id": "daily-missile",
   "metadata": {},
   "source": [
    "1. Randomly initialize the cluster centers, $c_1, ..., c_K$\n",
    "2. Given cluster centers, determine points in each cluster\n",
    "- For each point $p$, find the closest $c_i$. Put $p$ into cluster $i$\n",
    "3. Given points in each cluster, solve for $c_i$\n",
    "- Set $c_i$ to be the mean of points in cluster $i$\n",
    "4. If $c_i$ have changed, repeat Step 2\n",
    "\n",
    "pseudocode from: \"Slides by Derek Hoiem and Kristen Grauman\""
   ]
  },
  {
   "cell_type": "code",
   "execution_count": 4,
   "id": "aggregate-township",
   "metadata": {},
   "outputs": [],
   "source": [
    "def euclideanDist(pointA, pointB):\n",
    "    #for each dimenstion(x,y) in A and B square the difference\n",
    "    #finally take the square root of the sum of those values and return it\n",
    "    d = 0.0\n",
    "    for index in range(len(pointA)):\n",
    "        d += (float(pointA[index])-float(pointB[index]))**2\n",
    "    d = math.sqrt(d)\n",
    "    return d"
   ]
  },
  {
   "cell_type": "code",
   "execution_count": 5,
   "id": "signed-deposit",
   "metadata": {},
   "outputs": [],
   "source": [
    "####this function gets the mean x & y values of each cluster storing them in sumattr\n",
    "def mean(clustr):\n",
    "    if len(clustr) == 0:\n",
    "        return None\n",
    "    if len(clustr) == 1:\n",
    "        return clustr[0]\n",
    "    #the above 2 if statements cover edge cases\n",
    "    sumattr = list(clustr[0])\n",
    "    for i in clustr[1:]:\n",
    "        l = 0\n",
    "        for j in i:\n",
    "            sumattr[l] += j\n",
    "            l += 1\n",
    "    return [ele/len(clustr) for ele in sumattr]"
   ]
  },
  {
   "cell_type": "code",
   "execution_count": 6,
   "id": "received-envelope",
   "metadata": {},
   "outputs": [],
   "source": [
    "def checker(listA, listB):\n",
    "    # in this method I iterate through the elements of each list\n",
    "    # if any are not equal I return False, otherwise I return True\n",
    "    for i in range(len(listA)):\n",
    "        if (listA[i] != listB[i]):\n",
    "            return False\n",
    "    return True"
   ]
  },
  {
   "cell_type": "code",
   "execution_count": 7,
   "id": "spare-camcorder",
   "metadata": {},
   "outputs": [],
   "source": [
    "#this function runs our kmeans algorithm\n",
    "#data is our data, centers represent our cluster centers and k is the number of clusters\n",
    "#itter is the counter of this recursive function and would theoretically be used if the data was non-convergent\n",
    "def kmeans(k,data,centers,itter):\n",
    "    print('iteration %d'%itter)\n",
    "    #clusters is a list of lists containg the datapoints within each of the k clusters\n",
    "    clusters = []\n",
    "    for count in range(k):\n",
    "        clusters.append([])\n",
    "    #new centers contains the centers gathered from the clusters\n",
    "    newcenters = []\n",
    "    #within this loop each datapoint is assigned to a cluster using it's euclidean distance to each center\n",
    "    for datapoint in data:\n",
    "        #dist contains the euclidean distances between a given datapoint and all cluster centers\n",
    "        dist = []\n",
    "        for center in centers:\n",
    "            dist.append(euclideanDist(datapoint,center))\n",
    "        #index is our counter within the loop below\n",
    "        index = 0\n",
    "        #the loop below adds the current datapoint to the cluster whose center is closest to it(lowest euclidean dist)\n",
    "        for distance in dist:\n",
    "            if distance == min(dist):\n",
    "                clusters[index].append(datapoint)\n",
    "                break\n",
    "            index += 1\n",
    "    #the new cluster centers are updated based on our updated clusters\n",
    "    for cluster in clusters:\n",
    "        newcenters.append(mean(cluster))\n",
    "    #the updated values are printed\n",
    "    print('clusters = %s'%clusters)\n",
    "    print('centers = %s'%newcenters)\n",
    "    #this for loop uses the checker function to see if the algorithm has converged\n",
    "    #if the newcenters match the old centers exactly then it has converged and the centers and clusters are returned\n",
    "    #otherwise kmeans is recursively called with the updated clusters and centers alongside the incremented itter\n",
    "    for a,b in zip(newcenters,centers):\n",
    "        if not checker(a,b):\n",
    "            return kmeans(k,data,newcenters,itter+1)\n",
    "    return (newcenters,clusters)"
   ]
  },
  {
   "cell_type": "code",
   "execution_count": 8,
   "id": "medieval-charleston",
   "metadata": {},
   "outputs": [
    {
     "name": "stdout",
     "output_type": "stream",
     "text": [
      "initial values\n",
      "clusters = [(5.1, 3.8), (4.7, 3.2), (4.9, 3.1), (5.0, 3.0), (4.6, 2.9), (5.9, 3.2), (6.0, 3.0), (6.2, 2.8), (6.7, 3.1), (5.5, 4.2)]\n",
      "centers = [(6.2, 3.2), (6.6, 3.7), (6.5, 3.0)]\n",
      "iteration 1\n",
      "clusters = [[(5.1, 3.8), (4.7, 3.2), (4.9, 3.1), (5.0, 3.0), (4.6, 2.9), (5.9, 3.2), (6.0, 3.0)], [(5.5, 4.2)], [(6.2, 2.8), (6.7, 3.1)]]\n",
      "centers = [[5.171428571428572, 3.1714285714285713], (5.5, 4.2), [6.45, 2.95]]\n",
      "iteration 2\n",
      "clusters = [[(4.7, 3.2), (4.9, 3.1), (5.0, 3.0), (4.6, 2.9)], [(5.1, 3.8), (5.5, 4.2)], [(5.9, 3.2), (6.0, 3.0), (6.2, 2.8), (6.7, 3.1)]]\n",
      "centers = [[4.800000000000001, 3.0500000000000003], [5.3, 4.0], [6.2, 3.025]]\n",
      "iteration 3\n",
      "clusters = [[(4.7, 3.2), (4.9, 3.1), (5.0, 3.0), (4.6, 2.9)], [(5.1, 3.8), (5.5, 4.2)], [(5.9, 3.2), (6.0, 3.0), (6.2, 2.8), (6.7, 3.1)]]\n",
      "centers = [[4.800000000000001, 3.0500000000000003], [5.3, 4.0], [6.2, 3.025]]\n"
     ]
    }
   ],
   "source": [
    "#sets the initial value of centrs to a list containing our given x,y pairs\n",
    "centrs = [red,green,blue]\n",
    "#prints the initial information\n",
    "print('initial values')\n",
    "print('clusters = %s'%xy)\n",
    "print('centers = %s'%centrs)\n",
    "#runs the kmeans algorithm storing the converged clusters and centers in tupple tup\n",
    "tup = kmeans(3,xy,centrs,1)"
   ]
  },
  {
   "cell_type": "markdown",
   "id": "indirect-claim",
   "metadata": {},
   "source": [
    "$$\n",
    "\\\\ \\text{the answer to 4a is }[5.171, 3.171]\n",
    "\\\\ \\text{the answer to 4b is }[5.300, 4.000]\n",
    "\\\\ \\text{the answer to 4c is }[6.200, 3.025]\n",
    "\\\\ \\text{the answer to 4d is 3 iterations because there had to be an additional iteration to confirm convergence}\n",
    "$$"
   ]
  },
  {
   "cell_type": "code",
   "execution_count": 18,
   "id": "moral-timeline",
   "metadata": {},
   "outputs": [
    {
     "data": {
      "image/png": "[encoded data removed]",
      "text/plain": [
       "<Figure size 432x288 with 1 Axes>"
      ]
     },
     "metadata": {
      "needs_background": "light"
     },
     "output_type": "display_data"
    }
   ],
   "source": [
    "for tmp in tup[0]:\n",
    "    plt.scatter(np.array(tmp).T[0],np.array(tmp).T[0])\n",
    "plt.scatter(np.array(xy).T[0],np.array(xy).T[1])\n",
    "plt.show()"
   ]
  },
  {
   "cell_type": "code",
   "execution_count": null,
   "id": "developed-carter",
   "metadata": {},
   "outputs": [],
   "source": []
  }
 ],
 "metadata": {
  "kernelspec": {
   "display_name": "Python 3",
   "language": "python",
   "name": "python3"
  },
  "language_info": {
   "codemirror_mode": {
    "name": "ipython",
    "version": 3
   },
   "file_extension": ".py",
   "mimetype": "text/x-python",
   "name": "python",
   "nbconvert_exporter": "python",
   "pygments_lexer": "ipython3",
   "version": "3.7.5"
  }
 },
 "nbformat": 4,
 "nbformat_minor": 5
}

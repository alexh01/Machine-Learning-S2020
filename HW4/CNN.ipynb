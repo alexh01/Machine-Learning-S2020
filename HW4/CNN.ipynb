{
 "cells": [
  {
   "cell_type": "code",
   "execution_count": 1,
   "id": "military-intellectual",
   "metadata": {},
   "outputs": [],
   "source": [
    "# pip install tensorflow"
   ]
  },
  {
   "cell_type": "code",
   "execution_count": 2,
   "id": "premium-wrapping",
   "metadata": {},
   "outputs": [],
   "source": [
    "import pickle as cPickle\n",
    "import gzip, numpy\n",
    "# Load the dataset\n",
    "f = gzip.open('mnist.pkl.gz', 'rb')\n",
    "train_set, valid_set, test_set = cPickle.load(f, encoding='iso-8859-1')\n",
    "f.close()\n",
    "#above I used the given code block modified for python3"
   ]
  },
  {
   "cell_type": "code",
   "execution_count": 3,
   "id": "arctic-charleston",
   "metadata": {},
   "outputs": [],
   "source": [
    "#import libraries\n",
    "import matplotlib.pyplot as plt\n",
    "import numpy as np\n",
    "from tensorflow.keras.models import Sequential\n",
    "from tensorflow.keras.layers import Dense, Conv2D, Flatten\n",
    "from tensorflow.keras.utils import to_categorical\n",
    "import tensorflow.keras.callbacks as CallB"
   ]
  },
  {
   "cell_type": "code",
   "execution_count": 4,
   "id": "vital-contact",
   "metadata": {},
   "outputs": [],
   "source": [
    "#these objects contain the parameters' values for each sample in the sets from our data\n",
    "#I used reshape so my data fits the model\n",
    "Xtrn=train_set[0].reshape(-1,28,28,1)\n",
    "Xvld=valid_set[0].reshape(-1,28,28,1)\n",
    "Xtst=test_set[0].reshape(-1,28,28,1)\n",
    "\n",
    "#these objects contain the targets' values for each sample in the sets from our data\n",
    "#I use to_categorical for one-hot encode target column\n",
    "Ytrn, Yvld, Ytst = to_categorical(train_set[1]), to_categorical(valid_set[1]), to_categorical(test_set[1])"
   ]
  },
  {
   "cell_type": "code",
   "execution_count": 5,
   "id": "satisfactory-steps",
   "metadata": {},
   "outputs": [
    {
     "name": "stdout",
     "output_type": "stream",
     "text": [
      "Epoch 1/10\n",
      "1563/1563 [==============================] - 16s 10ms/step - loss: 0.3958 - categorical_accuracy: 0.8809 - val_loss: 0.0873 - val_categorical_accuracy: 0.9757\n",
      "Epoch 2/10\n",
      "1563/1563 [==============================] - 15s 10ms/step - loss: 0.0839 - categorical_accuracy: 0.9738 - val_loss: 0.0742 - val_categorical_accuracy: 0.9793\n",
      "Epoch 3/10\n",
      "1563/1563 [==============================] - 15s 10ms/step - loss: 0.0533 - categorical_accuracy: 0.9835 - val_loss: 0.0799 - val_categorical_accuracy: 0.9787\n",
      "Epoch 4/10\n",
      "1563/1563 [==============================] - 16s 10ms/step - loss: 0.0395 - categorical_accuracy: 0.9879 - val_loss: 0.0720 - val_categorical_accuracy: 0.9797\n",
      "Epoch 5/10\n",
      "1563/1563 [==============================] - 16s 10ms/step - loss: 0.0295 - categorical_accuracy: 0.9905 - val_loss: 0.0612 - val_categorical_accuracy: 0.9836\n",
      "Epoch 6/10\n",
      "1563/1563 [==============================] - 16s 10ms/step - loss: 0.0240 - categorical_accuracy: 0.9920 - val_loss: 0.0634 - val_categorical_accuracy: 0.9827\n",
      "Epoch 7/10\n",
      "1563/1563 [==============================] - 16s 10ms/step - loss: 0.0150 - categorical_accuracy: 0.9956 - val_loss: 0.0670 - val_categorical_accuracy: 0.9815\n",
      "Epoch 8/10\n",
      "1563/1563 [==============================] - 17s 11ms/step - loss: 0.0136 - categorical_accuracy: 0.9958 - val_loss: 0.0639 - val_categorical_accuracy: 0.9849\n"
     ]
    }
   ],
   "source": [
    "#here I create my model\n",
    "model = Sequential()\n",
    "\n",
    "#here I add my model's layers\n",
    "model.add(Conv2D(16, kernel_size=3, activation='relu', input_shape=(28,28,1)))\n",
    "model.add(Conv2D(9, kernel_size=3, activation='relu'))\n",
    "model.add(Flatten())\n",
    "model.add(Dense(10, activation='softmax'))\n",
    "\n",
    "#here I compile my model using accuracy to measure model performance\n",
    "model.compile(optimizer='adam', loss='categorical_crossentropy', metrics=[\"categorical_accuracy\"])\n",
    "\n",
    "#the code below allows me to determine information given the model's weights at any epoch\n",
    "my_callbacks = [\n",
    "    CallB.EarlyStopping(patience=3),\n",
    "    CallB.ModelCheckpoint(filepath='./cnnFolder/model.{epoch:02d}.h5'),\n",
    "    CallB.TensorBoard(log_dir='./logs'),\n",
    "]\n",
    "#here I train my model multiple\n",
    "metrics = model.fit(Xtrn, Ytrn, validation_data=(Xvld, Yvld), epochs=10, callbacks=my_callbacks, use_multiprocessing=True)\n",
    "\n",
    "trnErrs = [1.0-x for x in metrics.history['categorical_accuracy']]\n",
    "vldErrs = [1.0-x for x in metrics.history['val_categorical_accuracy']]"
   ]
  },
  {
   "cell_type": "code",
   "execution_count": 6,
   "id": "departmental-metallic",
   "metadata": {},
   "outputs": [],
   "source": [
    "#I store the test errors at each epoch here for later\n",
    "tstErrs = []\n",
    "\n",
    "def testacc(ypred,ytrue):\n",
    "    #here I calculate the testing accuracy of my model\n",
    "    acc = 0.0\n",
    "    for a,b in zip(ypred,ytrue):\n",
    "        if list(b).index(max(b)) == list(a).index(max(a)):\n",
    "            acc+=1/len(ytrue)\n",
    "    return acc"
   ]
  },
  {
   "cell_type": "code",
   "execution_count": 7,
   "id": "thermal-relative",
   "metadata": {},
   "outputs": [],
   "source": [
    "#here I set ypred as my label predictions for the images in the test set\n",
    "testpred = list(model.predict(Xtst))\n",
    "#here I set ytrue as the true labels for the images in test set\n",
    "testtrue = list(Ytst)\n",
    "for i in range(0,len(vldErrs)):\n",
    "    model.load_weights('./cnnFolder/model.0%d.h5'%(i+1))\n",
    "    #here I set ypred as my label predictions for the images in the test set\n",
    "    testpred = list(model.predict(Xtst))\n",
    "    #here I set ytrue as the true labels for the images in test set\n",
    "    testtrue = list(Ytst)\n",
    "    tstErrs.append(1.0-testacc(testtrue,testpred))\n",
    "    continue"
   ]
  },
  {
   "cell_type": "code",
   "execution_count": 8,
   "id": "regular-registration",
   "metadata": {},
   "outputs": [
    {
     "data": {
      "image/png": "[encoded data removed]",
      "text/plain": [
       "<Figure size 432x288 with 1 Axes>"
      ]
     },
     "metadata": {
      "needs_background": "light"
     },
     "output_type": "display_data"
    }
   ],
   "source": [
    "#here I plot the accuracies accross the epochs\n",
    "plt.plot(trnErrs)\n",
    "plt.plot(vldErrs)\n",
    "plt.plot(tstErrs)\n",
    "plt.title('error over epochs')\n",
    "plt.ylabel('error')\n",
    "plt.xlabel('epoch-1')\n",
    "plt.legend(['train', 'valid', 'test'], loc='upper left')\n",
    "plt.show()"
   ]
  },
  {
   "cell_type": "code",
   "execution_count": 10,
   "id": "played-istanbul",
   "metadata": {},
   "outputs": [
    {
     "name": "stdout",
     "output_type": "stream",
     "text": [
      "highest and final validation scores\n",
      "0.9848999977111816\n",
      "0.9848999977111816\n",
      "highest and final test scores\n",
      "0.9849999999999078\n",
      "0.9849999999999078\n"
     ]
    }
   ],
   "source": [
    "print('highest and final validation scores')\n",
    "print(1-min(vldErrs))\n",
    "print(1-vldErrs[-1])\n",
    "print('highest and final test scores')\n",
    "print(1-min(tstErrs))\n",
    "print(1-tstErrs[-1])"
   ]
  },
  {
   "cell_type": "code",
   "execution_count": null,
   "id": "medical-ghost",
   "metadata": {},
   "outputs": [],
   "source": []
  }
 ],
 "metadata": {
  "kernelspec": {
   "display_name": "Python 3",
   "language": "python",
   "name": "python3"
  },
  "language_info": {
   "codemirror_mode": {
    "name": "ipython",
    "version": 3
   },
   "file_extension": ".py",
   "mimetype": "text/x-python",
   "name": "python",
   "nbconvert_exporter": "python",
   "pygments_lexer": "ipython3",
   "version": "3.7.5"
  }
 },
 "nbformat": 4,
 "nbformat_minor": 5
}

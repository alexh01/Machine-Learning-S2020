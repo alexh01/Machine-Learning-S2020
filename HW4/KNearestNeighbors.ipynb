{
 "cells": [
  {
   "cell_type": "code",
   "execution_count": 1,
   "id": "parliamentary-invalid",
   "metadata": {},
   "outputs": [],
   "source": [
    "#import libraries\n",
    "import pandas as pd\n",
    "import numpy as np\n",
    "from sklearn.model_selection import train_test_split\n",
    "from sklearn.model_selection import KFold\n",
    "from sklearn.utils import shuffle\n",
    "import matplotlib.pyplot as plt\n",
    "import time"
   ]
  },
  {
   "cell_type": "code",
   "execution_count": 2,
   "id": "chemical-russell",
   "metadata": {},
   "outputs": [
    {
     "name": "stdout",
     "output_type": "stream",
     "text": [
      "0       ADT1_YEAST\n",
      "1       ADT2_YEAST\n",
      "2       ADT3_YEAST\n",
      "3       AAR2_YEAST\n",
      "4       AATM_YEAST\n",
      "           ...    \n",
      "1479    YUR1_YEAST\n",
      "1480    ZIP1_YEAST\n",
      "1481    ZNRP_YEAST\n",
      "1482    ZUO1_YEAST\n",
      "1483    G6PD_YEAST\n",
      "Name: name, Length: 1484, dtype: object\n",
      "1484\n"
     ]
    }
   ],
   "source": [
    "#import data to matrix following information from yeast.names\n",
    "Data = pd.read_fwf(\"yeast.data\", delim_whitespace=True, \n",
    "                     names=[\"name\", \"id\", \"mcg\", \"gvh\", \"alm\", \"mit\", \"erl\", \"pox\", \"vac\", \"nuc\"])\n",
    "print(Data['name'])\n",
    "#converts my data into an array shuffles and converts back to dataframe\n",
    "arr = Data.values\n",
    "arr = shuffle(arr, random_state=0)\n",
    "Data = pd.DataFrame(arr, index=Data.index, columns=Data.columns)\n",
    "#Splits my data into a training and a testing set\n",
    "ttrain, truetest = train_test_split(Data, test_size=0.2, random_state=0)\n",
    "print(len(Data))"
   ]
  },
  {
   "cell_type": "code",
   "execution_count": 3,
   "id": "collective-madison",
   "metadata": {},
   "outputs": [],
   "source": [
    "def euclideanDist(pointA, pointB, elementWeights):\n",
    "    d = 0.0\n",
    "    for i in range(1,9):\n",
    "        d += elementWeights[i-1]*((float(pointA[i])-float(pointB[i]))**2)\n",
    "    d = np.sqrt(d)\n",
    "    return d\n",
    "    #for each dimenstion(attributes 2-8 inclusive) in A and B square the difference\n",
    "    #multiply that squared distance by the corresponding weight\n",
    "    #finally take the square root of the sum of those values and return it"
   ]
  },
  {
   "cell_type": "code",
   "execution_count": 4,
   "id": "sweet-medium",
   "metadata": {},
   "outputs": [],
   "source": [
    "def vote(nn):\n",
    "    #given a tuple where the second element is a list of labels to the nearest kluster centers\n",
    "    #this method will find the label of the nearest cluster center for the majority of the list\n",
    "    #and return that label for assignment\n",
    "    temp = [n[1] for n in nn]\n",
    "    counts = [temp.count(t) for t in temp]\n",
    "    return temp[counts.index(max(counts))]"
   ]
  },
  {
   "cell_type": "code",
   "execution_count": 5,
   "id": "arctic-gallery",
   "metadata": {},
   "outputs": [],
   "source": [
    "def helper(data, targets, weights):\n",
    "    #tictoc helps us determine how long our code has been running (used for debugging)\n",
    "    tictoc = time.time()\n",
    "    #because it is time consuming to create a new dictionary/map each iteration\n",
    "    #this function takes each point in targets as a key mapping to that point's\n",
    "    #nearest neighbors in data. so to get the k nearest we can take the first k\n",
    "    #elements in the value\n",
    "    mydict = {}\n",
    "    ed = []\n",
    "    for i in targets.iterrows():\n",
    "        #this nested for loop will get the euclidean distance from each point in data to \n",
    "        #the current point in target and put it in a sorted temporary list before adding it to mydict\n",
    "        ed = []\n",
    "        for j in data.iterrows():\n",
    "            ed.append((euclideanDist(i[1],j[1],weights),j[1][9]))\n",
    "        res = sorted(ed, key=lambda x:x[0])\n",
    "        mydict.update({i[1][0]:res})\n",
    "    print(\"\\t getting the distances took %f seconds?\"%(time.time()-tictoc))\n",
    "    return mydict"
   ]
  },
  {
   "cell_type": "code",
   "execution_count": 6,
   "id": "introductory-chest",
   "metadata": {},
   "outputs": [],
   "source": [
    "def KNN(mat, targets, k):\n",
    "    #gets the label predictions for knearest neighbors given targets,\n",
    "    #a k-value, and a dictionary/map connecting the datapoints in target to their neighbors\n",
    "    ypred = {}\n",
    "    for i in targets.iterrows():\n",
    "        ypred.update({i[1][0]:vote(mat.get(i[1][0])[:k])})\n",
    "    return ypred"
   ]
  },
  {
   "cell_type": "code",
   "execution_count": 7,
   "id": "under-circulation",
   "metadata": {},
   "outputs": [],
   "source": [
    "def mykfold(dataset,v):\n",
    "    folds = [fifth for fifth in np.array_split(dataset, v, axis=0)]\n",
    "    #splits the training data into 5 equal partitions\n",
    "    partitions = []\n",
    "    #this will hold 5 tuples containing 1 the validation set and 2 the training set of the remaining 4 partitions\n",
    "    cpy = folds.copy()\n",
    "    #cpy will be a list holding the 4 other partitions\n",
    "    for k in range(len(folds)):\n",
    "        cpy.pop(k)\n",
    "        #remove one of the partitions\n",
    "        partitions.append((folds[k], np.concatenate(cpy)))\n",
    "        #add the remaining 4 together and append the tuple to the list\n",
    "        cpy = folds.copy()\n",
    "        #reset cpy for the next iteration\n",
    "    return partitions"
   ]
  },
  {
   "cell_type": "code",
   "execution_count": 8,
   "id": "qualified-december",
   "metadata": {},
   "outputs": [],
   "source": [
    "#CV is my cross validation function returning the avg accuracy of epochs k-values accross v kfold partitions of data\n",
    "def CV(data, epochs, v, w):\n",
    "    #v will be an int between 1 and 5\n",
    "    #data will be a dataframe containing our training set\n",
    "    #epochs will be the number of k-values tested from 1 to epochs\n",
    "    storage = [0.0]*(epochs)\n",
    "    #storage is where the sum of the validation accuracies are recorded\n",
    "    neighbors,testing,acc = {},{},0.0\n",
    "    #neighbors is the dictionary mapping the target datapoints to their neighboring datapoints in the training set\n",
    "    kf = mykfold(data.to_numpy(),v)\n",
    "    kf = [(pd.DataFrame(part[0], index=None, columns=Data.columns), pd.DataFrame(part[1], index=None, columns=Data.columns)) for part in kf]\n",
    "    #kf calls my kfold function to get the partitions for kfold cross validation\n",
    "    print('begin')\n",
    "    \n",
    "    for part in kf[:v]:\n",
    "        #part gets the validation set later defined as test and its training set later defined as train\n",
    "        #v is used here to speed up the code because 5 iterations will take around 6 mins\n",
    "        train = part[0]\n",
    "        test = part[1]\n",
    "        neighbors = helper(train,test,w)\n",
    "        #here neighbors is initialized using a helper function\n",
    "        #In the for loop below the accuracy of each k-value is calculated\n",
    "        #added to the corresponding position in storage and printed\n",
    "        for epoch in range(1,epochs+1):\n",
    "            testing = KNN(neighbors, test, epoch)\n",
    "            acc = 0.0\n",
    "            for x in test.iterrows():\n",
    "                if testing.get(x[1][0])==x[1][9]:\n",
    "                    acc += 1.0/len(testing)\n",
    "            storage[epoch-1] += acc\n",
    "            #print(\"epoch %d had acc %f\"%(epoch,acc))\n",
    "    #finally the average % accuracies for each k-value are returned\n",
    "    return [100*s/v for s in storage]"
   ]
  },
  {
   "cell_type": "code",
   "execution_count": 9,
   "id": "adopted-somewhere",
   "metadata": {},
   "outputs": [
    {
     "name": "stdout",
     "output_type": "stream",
     "text": [
      "begin\n",
      "\t getting the distances took 25.599408 seconds?\n",
      "\t getting the distances took 26.195435 seconds?\n",
      "\t getting the distances took 25.575915 seconds?\n",
      "\t getting the distances took 24.511439 seconds?\n",
      "\t getting the distances took 24.567189 seconds?\n"
     ]
    }
   ],
   "source": [
    "#main\n",
    "#store contains the average accuracies of each k-value from 1-20 accross 3 different validation sets\n",
    "store = CV(ttrain, 20, 5, [1,1,1,1,1,1,1,1])"
   ]
  },
  {
   "cell_type": "code",
   "execution_count": 10,
   "id": "qualified-makeup",
   "metadata": {
    "scrolled": true
   },
   "outputs": [
    {
     "data": {
      "image/png": "[encoded data removed]",
      "text/plain": [
       "<Figure size 432x288 with 1 Axes>"
      ]
     },
     "metadata": {
      "needs_background": "light"
     },
     "output_type": "display_data"
    },
    {
     "name": "stdout",
     "output_type": "stream",
     "text": [
      "best k-value=7\n",
      "with avg acc=54.617172\n",
      "\t getting the distances took 38.293190 seconds?\n",
      "with k=7 testing set with random_state=0 had acc=0.575758\n"
     ]
    }
   ],
   "source": [
    "#displays a plot of the accuracies v.s. the k-values\n",
    "plt.xlabel('k value')\n",
    "plt.ylabel('accuracy %')\n",
    "plt.plot(range(1,len(store)+1),store)\n",
    "plt.show()\n",
    "bestIndex = store.index(max(store))\n",
    "print('best k-value=%d'%(bestIndex+1))\n",
    "print('with avg acc=%f'%max(store))\n",
    "\n",
    "#like in our cross validation function the accuracy of our testing set using the best k and training set\n",
    "#is calculated and displayed\n",
    "testing = KNN(helper(ttrain,truetest,[1,1,1,1,1,1,1,1]), truetest, bestIndex)\n",
    "acc = 0.0\n",
    "for x in truetest.iterrows():\n",
    "    if testing.get(x[1][0])==x[1][9]:\n",
    "        acc += 1.0/len(testing)\n",
    "print(\"with k=%d testing set with random_state=0 had acc=%f\"%(1+bestIndex,acc))"
   ]
  },
  {
   "cell_type": "code",
   "execution_count": null,
   "id": "worse-morning",
   "metadata": {},
   "outputs": [],
   "source": []
  }
 ],
 "metadata": {
  "kernelspec": {
   "display_name": "Python 3",
   "language": "python",
   "name": "python3"
  },
  "language_info": {
   "codemirror_mode": {
    "name": "ipython",
    "version": 3
   },
   "file_extension": ".py",
   "mimetype": "text/x-python",
   "name": "python",
   "nbconvert_exporter": "python",
   "pygments_lexer": "ipython3",
   "version": "3.7.5"
  }
 },
 "nbformat": 4,
 "nbformat_minor": 5
}

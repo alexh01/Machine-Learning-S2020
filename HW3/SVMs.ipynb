{
 "cells": [
  {
   "cell_type": "code",
   "execution_count": 1,
   "id": "fresh-binding",
   "metadata": {},
   "outputs": [
    {
     "name": "stdout",
     "output_type": "stream",
     "text": [
      "w = [0.846, 0.3852]\n",
      "b = -3.50108\n",
      "f(x) = x2 = -2.196262x1+9.088993\n",
      "f(x)- = x2 = -2.196262x1+11.685047\n",
      "f(x)+ = x2 = -2.196262x1+6.492939\n",
      "\n",
      "h(x) = -2.196262x1+9.088993-x2\n"
     ]
    },
    {
     "data": {
      "image/png": "[encoded data removed]",
      "text/plain": [
       "<Figure size 432x288 with 1 Axes>"
      ]
     },
     "metadata": {
      "needs_background": "light"
     },
     "output_type": "display_data"
    },
    {
     "name": "stdout",
     "output_type": "stream",
     "text": [
      "point x_6 has distance: -1.2498290534100407\n",
      "point 3,3 has distance: 0.2071071521453788\n"
     ]
    }
   ],
   "source": [
    "import matplotlib.pyplot as plt\n",
    "import numpy as np\n",
    "\n",
    "x1s = [4,   4, 1,   2.5, 4.9, 1.9, 3.5, 0.5, 2,   4.5]\n",
    "x2s = [2.9, 4, 2.5, 1,   4.5, 1.9, 4,   1.5, 2.1, 2.5]\n",
    "ys = [1,1,-1,-1,1,-1,1,-1,-1,1]\n",
    "lms = [0.414,0,0,0.018,0,0,0.018,0,0.414,0]\n",
    "w=[0,0]\n",
    "ab=0.0\n",
    "for index in range(10):\n",
    "    w[0] += lms[index]*ys[index]*x1s[index]\n",
    "    w[1] += lms[index]*ys[index]*x2s[index]\n",
    "for index in range(10):\n",
    "    ab += ys[index]-(x1s[index]*w[0] + x2s[index]*w[1])\n",
    "ab = ab/10\n",
    "b = ys[0]-(x1s[0]*w[0] + x2s[0]*w[1])\n",
    "print(\"w = \",end='')\n",
    "print(w)\n",
    "print(\"b = \",end='')\n",
    "print(ys[0]-(x1s[0]*w[0] + x2s[0]*w[1]))\n",
    "print(\"f(x) = x2 = %fx1+%f\"%(-w[0]/w[1],-b/w[1]))\n",
    "print(\"f(x)- = x2 = %fx1+%f\"%(-w[0]/w[1],-(b-1)/w[1]))\n",
    "print(\"f(x)+ = x2 = %fx1+%f\"%(-w[0]/w[1],-(b+1)/w[1]))\n",
    "print(\"\\nh(x) = -2.196262x1+9.088993-x2\")\n",
    "samples = [(0,-(b)/(w[0])), (-(b)/w[1],0)]\n",
    "samplesn = [(0,-(b-1)/(w[0])), (-(b-1)/w[1],0)]\n",
    "samplesp = [(0,-(b+1)/(w[0])), (-(b+1)/w[1],0)]\n",
    "plt.scatter(x1s,x2s)\n",
    "plt.plot(samples[0],samples[1])\n",
    "plt.plot(samplesn[0],samplesn[1], ls = ':')\n",
    "plt.plot(samplesp[0],samplesp[1], ls = ':')\n",
    "plt.ylim((0, 5.5))\n",
    "plt.show()\n",
    "print(\"point x_6 has distance: \",end='')\n",
    "print((1.9*w[0]+1.9*w[1]+b)/np.sqrt(w[0]**2 + w[1]**2))\n",
    "print(\"point 3,3 has distance: \",end='')\n",
    "print((3*w[0]+3*w[1]+b)/np.sqrt(w[0]**2 + w[1]**2))"
   ]
  },
  {
   "cell_type": "markdown",
   "id": "young-static",
   "metadata": {},
   "source": [
    "2) The SVM loss function with slack variables can be viewed as:\n",
    "\n",
    "$\\min_{\\mathbf{w},b} \\frac{ ||\\mathbf{w}||^2}{2} + \\gamma \\sum_{i=1}^N \\underbrace{\\max(0, 1- y_i f(x_i))}_\\text{Hinge loss}$\n",
    "\n",
    "The hinge loss provides a way of dealing with datasets that are not separable.\n",
    "\n",
    "a) Argue that $l = \\max(0, 1-yw^\\top x)$ is convex as a function of $w$.\n",
    "\n",
    "$$\n",
    "\\\\ \\text{if } f''(x) \\ge 0 \\text{ for all } x \\text{ in } I \\text{ then } f(x) \\text{ is convex.}\n",
    "\\\\ \\text{if each part of the max function is convex the whole function is convex}\n",
    "\\\\ l''(w) = \\frac{\\partial}{\\partial w}\\frac{\\partial}{\\partial w} l =\n",
    "\\\\ \\frac{\\partial}{\\partial w} \\frac{\\partial}{\\partial w} \\max(0, 1-yw^\\top x) =\n",
    "\\\\ \\frac{\\partial}{\\partial w} \\frac{\\partial}{\\partial w} 0 \\leq 0 \\rightarrow 0 \\leq 0 \\rightarrow \\text{True}\n",
    "\\\\ \\text{and}\n",
    "\\\\ \\frac{\\partial}{\\partial w} \\frac{\\partial}{\\partial w} 1-yw^\\top x \\leq 0\n",
    "\\\\ \\frac{\\partial}{\\partial w} 0 - yx =\n",
    "\\\\ 0 - 0 = 0 \\rightarrow\n",
    "\\\\ 0 \\ge 0 \\text{, Therefore } l \\text{ is convex as a function of } w\n",
    "$$\n",
    "\n",
    "b) Suppose that for some $w$ we have a correct prediction of $f$ with $x_i$, i.e. $f(x_i) = \\text{sgn}(w^\\top x_i)$. For binary classifications ($y_i = +1/-1$), what range of values can the hinge loss, $l$, take on this correctly classified example? Points which are classified correctly and\n",
    "which have non-zero hinge loss are referred to as margin mistakes.\n",
    "$$\n",
    "\\\\ l=\\{^{1, \\text{ if } w^\\top x_i = 0}_{0, \\text{ otherwise}}\n",
    "\\\\ Range(\\sum_{i=1}^N \\underbrace{\\max(0, 1- y_i f(x_i)))}_l = [0,N]\n",
    "\\\\\\frac{ ||\\mathbf{w}||^2}{2} + \\gamma \\times [0,N] =\n",
    "\\\\ [\\frac {||w||^2} 2, \\lambda N+\\frac {||w||^2} 2]\n",
    "\\\\ \\text{final answer = } l = \\mathbb{R} \\in [0,1]\n",
    "$$\n",
    "\n",
    "c) Let $M(w)$ be the number of mistakes made by $w$ on our dataset (in terms of classification loss). Show that:\n",
    "$$\\frac{1}{n}M(w) \\leq \\frac{1}{n}\\sum_{i=1}^n \\max(0, 1- y_i w^\\top x_i)$$\n",
    "\n",
    "In other words, the average hinge loss on our dataset is an upper bound on the average number of mistakes we make on our dataset.\n",
    "$$\n",
    "\\\\ \\frac{1}{n}M(w) \\leq \\frac{1}{n}\\sum_{i=1}^n \\max(0, 1- y_i w^\\top x_i) =\n",
    "\\\\ M(w) \\leq \\sum_{i=1}^n \\max(0, 1- y_i w^\\top x_i) =\n",
    "\\\\ \\sum_{i=1}^n |y_i - \\text{sgn}(w^\\top x_i)| \\leq \\sum_{i=1}^n \\max(0, 1- y_i w^\\top x_i) =\n",
    "\\\\ z \\leq 2z, \\text{let } z=\\mathbb{R} \\in [0,N]\n",
    "\\\\ \\text{when there is an incorrect sample prediction mistakes will increase by 1 and loss will increase by 2}\n",
    "\\\\ \\text{when there is a correct sample prediction both the loss and number of mistakes increase by 0}\n",
    "\\\\ \\text{the number of (in)corrrect predictions are the same because both use the same set of samples}\n",
    "$$"
   ]
  },
  {
   "cell_type": "code",
   "execution_count": null,
   "id": "valuable-accordance",
   "metadata": {},
   "outputs": [],
   "source": []
  }
 ],
 "metadata": {
  "kernelspec": {
   "display_name": "Python 3",
   "language": "python",
   "name": "python3"
  },
  "language_info": {
   "codemirror_mode": {
    "name": "ipython",
    "version": 3
   },
   "file_extension": ".py",
   "mimetype": "text/x-python",
   "name": "python",
   "nbconvert_exporter": "python",
   "pygments_lexer": "ipython3",
   "version": "3.7.5"
  }
 },
 "nbformat": 4,
 "nbformat_minor": 5
}
